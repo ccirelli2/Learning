{
 "cells": [
  {
   "cell_type": "code",
   "execution_count": null,
   "metadata": {},
   "outputs": [],
   "source": [
    "# SQL Commands"
   ]
  },
  {
   "cell_type": "code",
   "execution_count": null,
   "metadata": {},
   "outputs": [],
   "source": [
    "'''\n",
    "SELECT -                  extracts data from a database\n",
    "UPDATE -                  updates data in a database\n",
    "DELETE -                  deletes data from a database\n",
    "INSERT INTO -             inserts new data into a database\n",
    "CREATE DATABASE -         creates a new database\n",
    "ALTER DATABASE -          modifies a database\n",
    "CREATE TABLE -            creates a new table\n",
    "ALTER TABLE -             modifies a table\n",
    "DROP TABLE -              deletes a table\n",
    "CREATE INDEX -            creates an index (search key)\n",
    "DROP INDEX -              deletes an index\n",
    "\n",
    "\n",
    "SELECT DISTINCT           returns distinc values from a column. \n",
    "\n",
    "'''"
   ]
  },
  {
   "cell_type": "code",
   "execution_count": null,
   "metadata": {},
   "outputs": [],
   "source": []
  },
  {
   "cell_type": "code",
   "execution_count": null,
   "metadata": {},
   "outputs": [],
   "source": []
  },
  {
   "cell_type": "code",
   "execution_count": null,
   "metadata": {},
   "outputs": [],
   "source": []
  },
  {
   "cell_type": "code",
   "execution_count": null,
   "metadata": {},
   "outputs": [],
   "source": []
  },
  {
   "cell_type": "code",
   "execution_count": null,
   "metadata": {},
   "outputs": [],
   "source": []
  }
 ],
 "metadata": {
  "kernelspec": {
   "display_name": "Python 3",
   "language": "python",
   "name": "python3"
  },
  "language_info": {
   "codemirror_mode": {
    "name": "ipython",
    "version": 3
   },
   "file_extension": ".py",
   "mimetype": "text/x-python",
   "name": "python",
   "nbconvert_exporter": "python",
   "pygments_lexer": "ipython3",
   "version": "3.6.1"
  }
 },
 "nbformat": 4,
 "nbformat_minor": 2
}
