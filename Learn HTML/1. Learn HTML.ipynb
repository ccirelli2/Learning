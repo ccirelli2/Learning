{
 "cells": [
  {
   "cell_type": "code",
   "execution_count": 1,
   "metadata": {},
   "outputs": [],
   "source": [
    "# Notes on HTML\n",
    "'''\n",
    "Webpage =            'https://www.w3schools.com/html/default.asp'\n",
    "\n",
    "View Source Code:    'Right click on page and select 'view source' \n",
    "'''"
   ]
  },
  {
   "cell_type": "code",
   "execution_count": null,
   "metadata": {},
   "outputs": [],
   "source": [
    "'''Common Tags\n",
    "\n",
    "<p>          Paragraph\n",
    "<h1>         Heading\n",
    "<a>          Links\n",
    "<img>        Image\n",
    "<hr>         defines a thematic break in the page.  It creates a line across the page. \n",
    "<head>       Has nothing to do with headings.  Contains metadata. The <head> tag follows the <html> tag. \n",
    "             Meta elements are typically used to specify page description, keywords, author of the document, \n",
    "             last modified, and other metadata.  Note that the <meta> tag is used within the <head> tag. \n",
    "             Note that metadata is not displayed.  \n",
    "<div>        The <div> tag is nothing more than a container unit that encapsulates other page elements \n",
    "             and divides the HTML document into sections. Web developers use <div> \n",
    "             elements to group together HTML elements and apply CSS styles to many elements at once.\n",
    "<br>         Defines a line break. When inserted within the <p>...</p> tags it will create a new line. \n",
    "<pre>        Defines pre-formatted text. Preserves both space and line breaks. \n",
    "'''"
   ]
  },
  {
   "cell_type": "code",
   "execution_count": null,
   "metadata": {},
   "outputs": [],
   "source": [
    "'''Tag Structure\n",
    "\n",
    "<tag1>content</tag2>  The first tag is the opening tag and the second the closing tag. \n",
    "<h1> - <h6>           Structure of the headings of an html web page.  <h1> is the most important heading.  <h6> the least. \n",
    "                      Note that you can have multiple <h1> headings.  This indicates the size of the heading in the display. \n",
    "**Elements            Comprises everything in between the start and end tag. \n",
    "Nested html Elements  Elements within elements. \n",
    "Case                  html tags are not case sensitive \n",
    "'''"
   ]
  },
  {
   "cell_type": "code",
   "execution_count": null,
   "metadata": {},
   "outputs": [],
   "source": [
    "'''Common Attributes\n",
    "\n",
    "href         Is the attribute of the <a> tag and specifies the attribute for the link.\n",
    "src          Is the attribute for the <img> tag.  Like the href attribute for <a>, src defines the attribute for images. \n",
    "             Ex:  <img src=\"img_girl.jpg\">\n",
    "             Like href, it is the actual image or content that will be displayed and falls within the <img...> tag. \n",
    "alt          Used to denote an alternative text to be displayed.  used in conjunction with the <img> tag.  In the \n",
    "             event that an image cannot be found, the alternative text will be displayed. \n",
    "style        Used to add a style to text.\n",
    "             Ex: <h3 style= \"color:red\"> This is heading 3</h3>  *note that the style attr is used within the <h3> tag. \n",
    "lang         Defines the language of the document.  Usually noted in the opening <html> tag.      \n",
    "title        Used in conjunction with a <h1> or <p> tag.  Will generate a message box when you hover over the title or parag. \n",
    "id           Identifies a unique ID of a tag. \n",
    "disabled     Specifies that an input value should be disabled (?)\n",
    "\n",
    "'''"
   ]
  },
  {
   "cell_type": "code",
   "execution_count": null,
   "metadata": {},
   "outputs": [],
   "source": [
    "'''Attribute Structure\n",
    "\n",
    "attrs        Attributes are used to provide additional information about html elements\n",
    "             All tags can have attributes. \n",
    "             Ex: <a href=\"https://www.w3schools.com\">This is a link</a>\n",
    "             Note: the attribute is within the <a> tag.  Technically then, you could call the attribute of the tag directly. \n",
    "'''"
   ]
  },
  {
   "cell_type": "code",
   "execution_count": null,
   "metadata": {},
   "outputs": [],
   "source": [
    "'''HTML Web Page Structure\n",
    "\n",
    "Body         Only the content inside the <body> of the html document is visible to the user.            \n",
    "'''"
   ]
  },
  {
   "cell_type": "code",
   "execution_count": null,
   "metadata": {},
   "outputs": [],
   "source": [
    "'''Headings\n",
    "\n",
    "Importance   Headings are important as they are used by search engines to index the structure and content of your web page. \n",
    "\n",
    "'''"
   ]
  },
  {
   "cell_type": "code",
   "execution_count": null,
   "metadata": {},
   "outputs": [],
   "source": [
    "''' Style Attirubte Syntax\n",
    "\n",
    "Syntax       <tagname style=\"property:value;\">\n",
    "Example      <body style=\"background-color:powderblue;\">\n",
    "\n",
    "\n",
    "'''"
   ]
  },
  {
   "cell_type": "code",
   "execution_count": null,
   "metadata": {},
   "outputs": [],
   "source": [
    "'''HTML Formatting Elements\n",
    "\n",
    "Elements     Used within tags to modify text. You open with an element the <tag> add text </tag> and close with the tag.  \n",
    "             The text within will be formatted based on the element tag used. \n",
    "Exanmple     Below is a more complex example where the element tags are used within the <h_> tag. \n",
    "             <h2>HTML <small>Small</small> Formatting</h2>\n",
    "\n",
    "\n",
    "<b>          Bold text\n",
    "<strong>     Important text\n",
    "<i>          Italic text\n",
    "<em>         Emphasized text\n",
    "<mark>       Marked text\n",
    "<small>      Small text\n",
    "<del>        Deleted text\n",
    "<ins>        Inserted text\n",
    "<sub>        Subscript text\n",
    "<sup>        Superscript text\n",
    "<q>          Used to define a short quotation. ex:  <p>WWF's goal is to: <q>Build a future where people live in harmony with nature.</q></p>\n",
    "<blockquote> Used to site a quote from another site. \n",
    "             Ex:  <blockquote cite=\"http://www.worldwildlife.org/who/index.html\">..Text...</blockquote>\n",
    "<address>    Contact information *I think web page designers want to tag all types of text and data so that algorithms can find it. \n",
    "\n",
    "'''"
   ]
  },
  {
   "cell_type": "code",
   "execution_count": null,
   "metadata": {},
   "outputs": [],
   "source": [
    "'''Cascading Style Sheets\n",
    "\n",
    "CSS         Describes how html text will be displayed. \n",
    "\n",
    "Approaches to Adding CSS to Html\n",
    "\n",
    "Inline      by using the style attribute in HTML elements; Used to apply CSS to a single element. \n",
    "Internal    by using a <style> element in the <head> section; Used to apply CSS to an entire page. \n",
    "            Approach:  use the <style> tag after the <head> tag and then close it.  so <html> <head> <style> features </style> <head> <body>\n",
    "External    by using an external CSS file; Used to define the styling for many pages. \n",
    "            Ex: *Uses a link to an external file.  \n",
    "            <head>\n",
    "            <link rel=\"stylesheet\" href=\"styles.css\">\n",
    "            </head>\n",
    "<class>     To add a specific style to a class of elements, add the class tag <class>\n",
    "            Ex:  <p class=\"error\">I am different</p>\n",
    "'''"
   ]
  },
  {
   "cell_type": "code",
   "execution_count": null,
   "metadata": {},
   "outputs": [],
   "source": [
    "'''Hyper Links\n",
    "\n",
    "<a>         Tag for links\n",
    "            Ex: <a href=\"https://www.w3schools.com/html/\">Visit our HTML tutorial</a>\n",
    "'''"
   ]
  },
  {
   "cell_type": "code",
   "execution_count": null,
   "metadata": {},
   "outputs": [],
   "source": [
    "'''Tables\n",
    "<table>     Tag for tables. \n",
    "<tr>        Used for each table row. \n",
    "<th>        Use to add text for each column in the selected row. \n",
    "            Syntax = <table><tr><th></tr></table>\n",
    "'''"
   ]
  },
  {
   "cell_type": "code",
   "execution_count": null,
   "metadata": {},
   "outputs": [],
   "source": [
    "'''Block Level Elements\n",
    "\n",
    "Elements    Ever element in html has a display value, normally defauled to div or inline. \n",
    "Inline      An Inline element does not start a new line\n",
    "\n",
    "<div>       Is a block level element. It is usually used as a container for other html elements. \n",
    "<span>      Is an inline element.  It is usually used as a container for text. \n",
    "'''"
   ]
  },
  {
   "cell_type": "code",
   "execution_count": null,
   "metadata": {},
   "outputs": [],
   "source": [
    "'''HTML File Paths\n",
    "\n",
    "File Path                        A file path describes the location of a file in a web site's folder structure\n",
    "\n",
    "<img src=\"picture.jpg\">          picture.jpg is located in the same folder as the current page\n",
    "<img src=\"images/picture.jpg\">   picture.jpg is located in the images folder in the current folder\n",
    "<img src=\"/images/picture.jpg\">  picture.jpg is located in the images folder at the root of the current web\n",
    "<img src=\"../picture.jpg\">       picture.jpg is located in the folder one level up from the current folder\n",
    "\n",
    "'''"
   ]
  },
  {
   "cell_type": "code",
   "execution_count": null,
   "metadata": {},
   "outputs": [],
   "source": []
  },
  {
   "cell_type": "code",
   "execution_count": null,
   "metadata": {},
   "outputs": [],
   "source": []
  },
  {
   "cell_type": "code",
   "execution_count": null,
   "metadata": {},
   "outputs": [],
   "source": []
  }
 ],
 "metadata": {
  "kernelspec": {
   "display_name": "Python 3",
   "language": "python",
   "name": "python3"
  },
  "language_info": {
   "codemirror_mode": {
    "name": "ipython",
    "version": 3
   },
   "file_extension": ".py",
   "mimetype": "text/x-python",
   "name": "python",
   "nbconvert_exporter": "python",
   "pygments_lexer": "ipython3",
   "version": "3.6.1"
  }
 },
 "nbformat": 4,
 "nbformat_minor": 2
}
