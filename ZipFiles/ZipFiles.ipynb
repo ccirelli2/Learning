{
 "cells": [
  {
   "cell_type": "code",
   "execution_count": 86,
   "metadata": {},
   "outputs": [],
   "source": [
    "# WORKING WITH ZIP FILES\n",
    "\n"
   ]
  },
  {
   "cell_type": "code",
   "execution_count": 77,
   "metadata": {},
   "outputs": [],
   "source": [
    "# Package\n",
    "\n",
    "import zipfile\n",
    "import os\n"
   ]
  },
  {
   "cell_type": "code",
   "execution_count": 78,
   "metadata": {},
   "outputs": [],
   "source": [
    "# Point Jupyter Notebook to the correct dir\n",
    "\n",
    "Dir = r'C:\\Users\\Chris.Cirelli\\Desktop\\Python Programming Docs\\Learn Python\\ZipFiles'\n",
    "os.chdir(Dir)\n"
   ]
  },
  {
   "cell_type": "code",
   "execution_count": 79,
   "metadata": {},
   "outputs": [],
   "source": [
    "# Create a ZipFile\n",
    "\n",
    "def create_zipFile(zip_name, target_dir):\n",
    "    '''The purpose of this function is to create a zipfile\n",
    "    a.) inputs: a string of the name of the zip file to be created and the directory where the files are located\n",
    "    b.) create zipFile name\n",
    "    c.) Wih the zip file open, write to the zipfile. \n",
    "    d.) Print the dir_list to confirm the zip file was create\n",
    "    e.) Return none as the file was created on the shared drive.'''\n",
    "    \n",
    "    from zipfile import ZipFile\n",
    "    zip_name = str(zip_name) + '.zip'\n",
    "    target_dir = os.chdir(target_dir)\n",
    "    File_list = os.listdir()\n",
    "    \n",
    "    with ZipFile (zip_name, 'w') as zip:\n",
    "        for file in File_list:\n",
    "            if '.txt' in file:\n",
    "                zip.write(file)\n",
    "            \n",
    "    return None\n",
    "      \n",
    "   "
   ]
  },
  {
   "cell_type": "code",
   "execution_count": 80,
   "metadata": {},
   "outputs": [],
   "source": [
    "create_zipFile('shitballs', Dir)"
   ]
  },
  {
   "cell_type": "code",
   "execution_count": 35,
   "metadata": {},
   "outputs": [],
   "source": [
    "# Inspect Zip File"
   ]
  },
  {
   "cell_type": "code",
   "execution_count": 81,
   "metadata": {},
   "outputs": [
    {
     "name": "stdout",
     "output_type": "stream",
     "text": [
      ".ipynb_checkpoints\n",
      "shitballs.zip\n",
      "Zip1.txt\n",
      "Zip2.txt\n",
      "Zip3.txt\n",
      "ZipFiles.ipynb\n"
     ]
    }
   ],
   "source": [
    "Dir_list = [print(x) for x in os.listdir()]"
   ]
  },
  {
   "cell_type": "code",
   "execution_count": 82,
   "metadata": {},
   "outputs": [],
   "source": [
    "def inspect_zipFile(filename):\n",
    "    from zipfile import ZipFile\n",
    "         \n",
    "    with ZipFile (filename) as zip:\n",
    "        zip.printdir()\n",
    "    \n",
    "    return None"
   ]
  },
  {
   "cell_type": "code",
   "execution_count": 83,
   "metadata": {},
   "outputs": [
    {
     "name": "stdout",
     "output_type": "stream",
     "text": [
      "File Name                                             Modified             Size\n",
      "Zip1.txt                                       2018-01-20 07:03:18            0\n",
      "Zip2.txt                                       2018-01-20 07:03:28            0\n",
      "Zip3.txt                                       2018-01-20 07:03:44            0\n"
     ]
    }
   ],
   "source": [
    "inspect_zipFile('shitballs.zip')\n"
   ]
  },
  {
   "cell_type": "code",
   "execution_count": 52,
   "metadata": {},
   "outputs": [],
   "source": []
  },
  {
   "cell_type": "code",
   "execution_count": null,
   "metadata": {},
   "outputs": [],
   "source": []
  },
  {
   "cell_type": "code",
   "execution_count": null,
   "metadata": {},
   "outputs": [],
   "source": []
  },
  {
   "cell_type": "code",
   "execution_count": null,
   "metadata": {},
   "outputs": [],
   "source": []
  },
  {
   "cell_type": "code",
   "execution_count": null,
   "metadata": {},
   "outputs": [],
   "source": []
  },
  {
   "cell_type": "code",
   "execution_count": null,
   "metadata": {},
   "outputs": [],
   "source": []
  },
  {
   "cell_type": "code",
   "execution_count": null,
   "metadata": {},
   "outputs": [],
   "source": []
  },
  {
   "cell_type": "code",
   "execution_count": null,
   "metadata": {},
   "outputs": [],
   "source": []
  },
  {
   "cell_type": "code",
   "execution_count": null,
   "metadata": {},
   "outputs": [],
   "source": []
  },
  {
   "cell_type": "code",
   "execution_count": null,
   "metadata": {},
   "outputs": [],
   "source": []
  },
  {
   "cell_type": "code",
   "execution_count": null,
   "metadata": {},
   "outputs": [],
   "source": []
  },
  {
   "cell_type": "code",
   "execution_count": null,
   "metadata": {},
   "outputs": [],
   "source": []
  },
  {
   "cell_type": "code",
   "execution_count": null,
   "metadata": {},
   "outputs": [],
   "source": []
  },
  {
   "cell_type": "code",
   "execution_count": null,
   "metadata": {},
   "outputs": [],
   "source": []
  },
  {
   "cell_type": "code",
   "execution_count": null,
   "metadata": {},
   "outputs": [],
   "source": []
  },
  {
   "cell_type": "code",
   "execution_count": null,
   "metadata": {},
   "outputs": [],
   "source": []
  }
 ],
 "metadata": {
  "kernelspec": {
   "display_name": "Python 3",
   "language": "python",
   "name": "python3"
  },
  "language_info": {
   "codemirror_mode": {
    "name": "ipython",
    "version": 3
   },
   "file_extension": ".py",
   "mimetype": "text/x-python",
   "name": "python",
   "nbconvert_exporter": "python",
   "pygments_lexer": "ipython3",
   "version": "3.6.1"
  }
 },
 "nbformat": 4,
 "nbformat_minor": 2
}
