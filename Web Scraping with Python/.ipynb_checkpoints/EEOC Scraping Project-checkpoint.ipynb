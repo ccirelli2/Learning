{
 "cells": [
  {
   "cell_type": "code",
   "execution_count": null,
   "metadata": {},
   "outputs": [],
   "source": [
    "# EEOC"
   ]
  },
  {
   "cell_type": "code",
   "execution_count": 18,
   "metadata": {},
   "outputs": [],
   "source": [
    "# Import Packages\n",
    "\n",
    "from urllib.request import urlopen\n",
    "from bs4 import BeautifulSoup\n",
    "import pandas as pd\n",
    "import re\n",
    "\n",
    "def write_to_excel(dataframe, filename):\n",
    "    writer = pd.ExcelWriter(filename+'.xlsx')\n",
    "    dataframe.to_excel(writer, 'Data')\n",
    "    writer.save()\n",
    "    \n",
    "Url_EEOC = 'https://www.eeoc.gov/eeoc/newsroom/release/index.cfm'"
   ]
  },
  {
   "cell_type": "code",
   "execution_count": 21,
   "metadata": {},
   "outputs": [
    {
     "name": "stderr",
     "output_type": "stream",
     "text": [
      "C:\\Users\\Chris.Cirelli\\AppData\\Local\\Continuum\\Anaconda3\\lib\\site-packages\\xlsxwriter\\worksheet.py:830: UserWarning: Ignoring URL 'https://www.eeoc.govmailto:?Subject=Link from U.S. Equal Employment Opportunity Commission website&Body=Here's a link to a page on the U.S. Equal Employment Opportunity Commission website that you might be interested in...%0a%0ahttps://www.eeoc.gov//eeoc/newsroom/release/index.cfm' with link or location/anchor > 255 characters since it exceeds Excel's limit for URLS\n",
      "  force_unicode(url))\n"
     ]
    }
   ],
   "source": [
    "# Get Articles from EEOC Web Page\n",
    "\n",
    "def get_All_Articles_EEOC(Url):\n",
    "    # Create Bs4\n",
    "    html = urlopen(Url)\n",
    "    bsObj = BeautifulSoup(html.read(), 'lxml')\n",
    "    \n",
    "    # Scrape Only News Article Links\n",
    "    Links = bsObj.findAll('a', {'href':re.compile('\\/eeoc\\/newsroom\\/release\\/.*\\.cfm')})\n",
    "    \n",
    "    # Lists\n",
    "    List_href = []\n",
    "    List_complete_direction = []\n",
    "    List_headline = []\n",
    "    Root = 'https://www.eeoc.gov'\n",
    "    \n",
    "    # Get Links\n",
    "    for x in Links:\n",
    "        List_href.append(x.attrs['href'])\n",
    "    \n",
    "    # Concatanate Root and link\n",
    "    for x in List_href:\n",
    "        y = Root + x \n",
    "        List_complete_direction.append(y)\n",
    "    \n",
    "    # Get headline text\n",
    "    for x in Links:\n",
    "        List_headline.append(x.get_text())\n",
    "      \n",
    "    # Create Dataframehead\n",
    "    df = pd.DataFrame(List_complete_direction, List_headline)\n",
    "    return df\n",
    "\n",
    "df1 = get_All_Articles_EEOC(Url_EEOC)\n",
    "write_to_excel(df1, 'EEOC Links')"
   ]
  },
  {
   "cell_type": "code",
   "execution_count": 55,
   "metadata": {},
   "outputs": [],
   "source": [
    "# Get Article Text\n",
    "\n",
    "\n",
    "def get_All_Articles_EEOC(Url):\n",
    "    # Create Bs4\n",
    "    html = urlopen(Url)\n",
    "    bsObj = BeautifulSoup(html.read(), 'lxml')\n",
    "    \n",
    "    # Scrape Only News Article Links\n",
    "    Links = bsObj.findAll('a', {'href':re.compile('\\/eeoc\\/newsroom\\/release\\/.*\\.cfm')})\n",
    "    \n",
    "    # Lists\n",
    "    List_href = []\n",
    "    List_complete_direction = []\n",
    "    Root = 'https://www.eeoc.gov'\n",
    "    \n",
    "    # Get Links\n",
    "    for x in Links:\n",
    "        List_href.append(x.attrs['href'])\n",
    "    \n",
    "    # Concatanate Root and link\n",
    "    for x in List_href:\n",
    "        y = Root + x \n",
    "        List_complete_direction.append(y)\n",
    "    List_final = List_complete_direction[1:]\n",
    "    return List_final\n",
    "\n",
    "def get_Article_Text(Url):\n",
    "    # Create Bs4\n",
    "    html = urlopen(Url)\n",
    "    bsObj = BeautifulSoup(html.read(), 'lxml')\n",
    "    paragraph = bsObj.find('div', {'id':'cs_control_4119'})\n",
    "    return paragraph\n",
    "\n",
    "def clean_subject(Subject):                           # Replae with List\n",
    "    Subject_1 = Subject.replace('<h1>', '')\n",
    "    Subject_2 = Subject_1.replace('</h1>', '')\n",
    "    Subject_3 = Subject_2.replace('/', '')\n",
    "    Subject_4 = Subject_3.replace('\\\"', '')\n",
    "    Subject_5 = Subject_4.replace('\\\\', '')\n",
    "    Subject_6 = Subject_5.replace('*', '')\n",
    "    Subject_7 = Subject_6.replace('<em>', '')\n",
    "    Subject_8 = Subject_7.replace('!', '')\n",
    "    Subject_9 = Subject_8.replace('?', '')\n",
    "    return Subject_9\n",
    "\n",
    "def write_to_text_file(Text_2_write, File_name2_use):\n",
    "    file = open(str(File_name2_use) + '.txt', 'w')           #added 'r' to try to remove any punct \n",
    "    file.write(Text_2_write)\n",
    "\n",
    "def combine_functions():\n",
    "    Url_EEOC = 'https://www.eeoc.gov/eeoc/newsroom/release/index.cfm'\n",
    "    List_links = get_All_Articles_EEOC(Url_EEOC)\n",
    "    \n",
    "    # Run Loop\n",
    "    for x in List_links[2957:]:                                             # New starting point from prev crash. \n",
    "        bs4_element = get_Article_Text(x)\n",
    "        if bs4_element != None:\n",
    "            Dirty_subject = str(bs4_element.h1)\n",
    "            Article_text = str(bs4_element)\n",
    "            Clean_subject = clean_subject(Dirty_subject)\n",
    "            write_to_text_file(Article_text, Clean_subject[:75])           # limit lenght of title.  Minimize punct issues. \n",
    "        \n",
    "combine_functions()\n",
    "        "
   ]
  },
  {
   "cell_type": "code",
   "execution_count": null,
   "metadata": {},
   "outputs": [],
   "source": [
    "\n",
    "\n"
   ]
  },
  {
   "cell_type": "code",
   "execution_count": null,
   "metadata": {},
   "outputs": [],
   "source": []
  }
 ],
 "metadata": {
  "kernelspec": {
   "display_name": "Python 3",
   "language": "python",
   "name": "python3"
  },
  "language_info": {
   "codemirror_mode": {
    "name": "ipython",
    "version": 3
   },
   "file_extension": ".py",
   "mimetype": "text/x-python",
   "name": "python",
   "nbconvert_exporter": "python",
   "pygments_lexer": "ipython3",
   "version": "3.6.1"
  }
 },
 "nbformat": 4,
 "nbformat_minor": 2
}
