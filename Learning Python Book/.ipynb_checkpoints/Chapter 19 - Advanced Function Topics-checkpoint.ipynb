{
 "cells": [
  {
   "cell_type": "code",
   "execution_count": null,
   "metadata": {},
   "outputs": [],
   "source": [
    "# Function Attribute Inspection"
   ]
  },
  {
   "cell_type": "code",
   "execution_count": 12,
   "metadata": {},
   "outputs": [
    {
     "data": {
      "text/plain": [
       "\"Terminology & Methods\\n\\ndir()        by calling dir() on a function you can inspect its attributes. \\n\\nsetattr      setattr(function, attribute, value); ex: setattr(foo, 'age', 23).  This will assign the value of 23 to the \\n             'age' attribute for the 'foo' function. \\ngetattr      getattr(foo, 'age').  This will return the value of the attribute. \\n\\nfunct.attr   You can use this syntax to call the value of the attribute.  Ex:  foo.age will return 23. \\n\\nf._dict_     This is where the assigned attribute values are stored. \\n\\n\""
      ]
     },
     "execution_count": 12,
     "metadata": {},
     "output_type": "execute_result"
    }
   ],
   "source": [
    "'''Terminology & Methods\n",
    "\n",
    "dir()        by calling dir() on a function you can inspect its attributes. \n",
    "\n",
    "setattr      setattr(function, attribute, value); ex: setattr(foo, 'age', 23).  This will assign the value of 23 to the \n",
    "             'age' attribute for the 'foo' function. \n",
    "getattr      getattr(foo, 'age').  This will return the value of the attribute. \n",
    "\n",
    "funct.attr   You can use this syntax to call the value of the attribute.  Ex:  foo.age will return 23. \n",
    "\n",
    "f._dict_     This is where the assigned attribute values are stored. \n",
    "\n",
    "'''\n"
   ]
  },
  {
   "cell_type": "code",
   "execution_count": null,
   "metadata": {},
   "outputs": [],
   "source": []
  },
  {
   "cell_type": "code",
   "execution_count": null,
   "metadata": {},
   "outputs": [],
   "source": [
    "# Examples of Attribute Assignment"
   ]
  },
  {
   "cell_type": "code",
   "execution_count": 14,
   "metadata": {},
   "outputs": [
    {
     "name": "stdout",
     "output_type": "stream",
     "text": [
      "23\n",
      "23\n"
     ]
    }
   ],
   "source": [
    "def foo():\n",
    "    pass\n",
    "setattr(foo, 'age', 23 )\n",
    "print(getattr(foo, 'age'))\n",
    "print(foo.age)\n"
   ]
  },
  {
   "cell_type": "code",
   "execution_count": null,
   "metadata": {},
   "outputs": [],
   "source": [
    "# Attribute Assignment uses"
   ]
  },
  {
   "cell_type": "code",
   "execution_count": null,
   "metadata": {},
   "outputs": [],
   "source": [
    "'''\n",
    "Comments        you can add comments to your code\n",
    "Static values   you can add static values to your code that you expect not to change in the future. \n",
    "\n",
    "'''"
   ]
  },
  {
   "cell_type": "code",
   "execution_count": null,
   "metadata": {},
   "outputs": [],
   "source": []
  },
  {
   "cell_type": "code",
   "execution_count": null,
   "metadata": {},
   "outputs": [],
   "source": [
    "# LAMBDA BASICS"
   ]
  },
  {
   "cell_type": "code",
   "execution_count": null,
   "metadata": {},
   "outputs": [],
   "source": [
    "'''\n",
    "Syntax        lambda argument1, argument2, argument3: expression using arguments. \n",
    "Attributes    def can be used inside other functions but need to be created elsewhere.  Lambdas can be created and used\n",
    "              inside the same function. \n",
    "Expression    Lambda is an expression, not a statement.  Lambda returns a value (a new function), that can be optionally \n",
    "              named.  A def always assigns a function a name. \n",
    "\n",
    "Body          Lambda's body is a single statment. You cannot nest code in a lambda nor use an if statement. \n",
    "\n",
    "Defaults      With def statements, you can assign values to the input values of a function.  def test(a=1, b=2, etc) \n",
    "              You can do the same with lambdas\n",
    "'''"
   ]
  },
  {
   "cell_type": "code",
   "execution_count": 17,
   "metadata": {},
   "outputs": [
    {
     "data": {
      "text/plain": [
       "6"
      ]
     },
     "execution_count": 17,
     "metadata": {},
     "output_type": "execute_result"
    }
   ],
   "source": [
    "# Examples"
   ]
  },
  {
   "cell_type": "code",
   "execution_count": 21,
   "metadata": {},
   "outputs": [
    {
     "data": {
      "text/plain": [
       "6"
      ]
     },
     "execution_count": 21,
     "metadata": {},
     "output_type": "execute_result"
    }
   ],
   "source": [
    "test = lambda a,b,c: a*b*c\n",
    "test(1,2,3)"
   ]
  },
  {
   "cell_type": "code",
   "execution_count": null,
   "metadata": {},
   "outputs": [],
   "source": [
    "# Defaults"
   ]
  },
  {
   "cell_type": "code",
   "execution_count": 34,
   "metadata": {},
   "outputs": [
    {
     "data": {
      "text/plain": [
       "'Milenafiefoefum'"
      ]
     },
     "execution_count": 34,
     "metadata": {},
     "output_type": "execute_result"
    }
   ],
   "source": [
    "test_2 = lambda a='fee', b='fie', c='foe', d='fum': a+b+c+d\n",
    "# test_2()\n",
    "# test_2('Milena')"
   ]
  },
  {
   "cell_type": "code",
   "execution_count": null,
   "metadata": {},
   "outputs": [],
   "source": [
    "# Nesting Lambdas Inside Another Functions"
   ]
  },
  {
   "cell_type": "code",
   "execution_count": 48,
   "metadata": {},
   "outputs": [
    {
     "data": {
      "text/plain": [
       "'SirRobin'"
      ]
     },
     "execution_count": 48,
     "metadata": {},
     "output_type": "execute_result"
    }
   ],
   "source": [
    "def knights():\n",
    "    \n",
    "    title = 'Sir'\n",
    "    action = (lambda x: title + '' + x)\n",
    "    return action\n",
    "\n",
    "act = knights()     #knights will return the function, not the value that you are looking for. Therefore, the function\n",
    "                    #must be assigned in order to return the value. \n",
    "\n",
    "act('Robin')"
   ]
  },
  {
   "cell_type": "code",
   "execution_count": null,
   "metadata": {},
   "outputs": [],
   "source": [
    "# Lambda Expressions As Lists"
   ]
  },
  {
   "cell_type": "code",
   "execution_count": 52,
   "metadata": {},
   "outputs": [
    {
     "name": "stdout",
     "output_type": "stream",
     "text": [
      "4\n",
      "6\n",
      "8\n"
     ]
    }
   ],
   "source": [
    "L = [lambda x: x*2, lambda x: x*3, lambda x: x*4]\n",
    "for x in L:\n",
    "    print(x(2))"
   ]
  },
  {
   "cell_type": "code",
   "execution_count": null,
   "metadata": {},
   "outputs": [],
   "source": [
    "# Lambdas Inside Dictionaries"
   ]
  },
  {
   "cell_type": "code",
   "execution_count": 54,
   "metadata": {},
   "outputs": [],
   "source": [
    "Dict = {}\n",
    "Dict['Square'] = (lambda x: x**2)\n",
    "Dict['Cubed'] = (lambda x: x**4)\n",
    "Dict['Power 6'] = (lambda x: x**6)"
   ]
  },
  {
   "cell_type": "code",
   "execution_count": 56,
   "metadata": {},
   "outputs": [
    {
     "data": {
      "text/plain": [
       "16"
      ]
     },
     "execution_count": 56,
     "metadata": {},
     "output_type": "execute_result"
    }
   ],
   "source": [
    "Dict['Cubed'](2)"
   ]
  },
  {
   "cell_type": "code",
   "execution_count": null,
   "metadata": {},
   "outputs": [],
   "source": [
    "# Lambda and conditional statements"
   ]
  },
  {
   "cell_type": "code",
   "execution_count": 58,
   "metadata": {},
   "outputs": [],
   "source": [
    "Test_3 = lambda x,y: (x if x < y else y)\n",
    "Test_3(1,2)"
   ]
  },
  {
   "cell_type": "code",
   "execution_count": 59,
   "metadata": {},
   "outputs": [
    {
     "data": {
      "text/plain": [
       "1"
      ]
     },
     "execution_count": 59,
     "metadata": {},
     "output_type": "execute_result"
    }
   ],
   "source": [
    "# Embed Map within Lambda"
   ]
  },
  {
   "cell_type": "code",
   "execution_count": 67,
   "metadata": {},
   "outputs": [
    {
     "data": {
      "text/plain": [
       "[2, 3, 4]"
      ]
     },
     "execution_count": 67,
     "metadata": {},
     "output_type": "execute_result"
    }
   ],
   "source": [
    "def add_one(Object):\n",
    "    A = Object + 1\n",
    "    return A\n",
    "    \n",
    "Test_4 = lambda x: list(map(add_one, x))    # Note that map performs the iteration function for you so you dont need to \n",
    "List = [1,2,3]                              # use an iterable \n",
    "Test_4(List)"
   ]
  },
  {
   "cell_type": "code",
   "execution_count": null,
   "metadata": {},
   "outputs": [],
   "source": [
    "# Lambda and List comprehension"
   ]
  },
  {
   "cell_type": "code",
   "execution_count": 68,
   "metadata": {},
   "outputs": [],
   "source": [
    "Test_5 = lambda x: [x**2 for x in List]\n",
    "Test_5([1,2,3])"
   ]
  },
  {
   "cell_type": "code",
   "execution_count": null,
   "metadata": {},
   "outputs": [],
   "source": []
  },
  {
   "cell_type": "code",
   "execution_count": null,
   "metadata": {},
   "outputs": [],
   "source": [
    "# FUNCTIONAL PROGRAMMING TOOLS"
   ]
  },
  {
   "cell_type": "code",
   "execution_count": null,
   "metadata": {},
   "outputs": [],
   "source": [
    "'''Types of programming paradigms\n",
    "\n",
    "Procedural          basic statements (command line is a good example)\n",
    "Object-orientated   classes\n",
    "functional          which takes functions as inputs\n",
    "\n",
    "Python              Includes built in functions that apply functions to sequences and other iterables.  These include \n",
    "                    map, filter and reduce. \n",
    "\n",
    "map()               call a function on an iterable's items (list, dictionary, tuples, etc). \n",
    "filter()            filter out items based on a test function\n",
    "reduce()            apply functions to pairs o fitems adn running results. \n",
    "                    * reduce() returns a single result and not a list. \n",
    "\n",
    "*Note               the book says that all three require a list call to display all their results. \n",
    "vs List comp        the big difference to me between using functional programming and list comprehension is the ability \n",
    "                    to use generators in the latter approach.  \n",
    "\n",
    "'''"
   ]
  },
  {
   "cell_type": "code",
   "execution_count": null,
   "metadata": {},
   "outputs": [],
   "source": []
  },
  {
   "cell_type": "code",
   "execution_count": null,
   "metadata": {},
   "outputs": [],
   "source": [
    "# Map\n",
    "'''The map function applies a passed-in function to each item in an iterable object and returns a list containing all the \n",
    "function call results'''"
   ]
  },
  {
   "cell_type": "code",
   "execution_count": 105,
   "metadata": {},
   "outputs": [
    {
     "data": {
      "text/plain": [
       "[11, 12, 13, 14]"
      ]
     },
     "execution_count": 105,
     "metadata": {},
     "output_type": "execute_result"
    }
   ],
   "source": [
    "counter = lambda x: x+10\n",
    "List_ints = [1,2,3,4]\n",
    "map(counter, List_ints)  # note that map alone will return a map object\n",
    "list(map(counter, List_ints))"
   ]
  },
  {
   "cell_type": "code",
   "execution_count": 80,
   "metadata": {},
   "outputs": [],
   "source": [
    "# Approaches to using map()"
   ]
  },
  {
   "cell_type": "code",
   "execution_count": 123,
   "metadata": {},
   "outputs": [],
   "source": [
    "List_test = [10,11,12,13]\n",
    "greater = lambda x: x>10\n",
    "\n",
    "# Approach using an externally defined function to map to an interable object. \n",
    "Test_1 = list(map(greater, List_test))\n",
    "\n",
    "# Approach using a lambda function within the map expression to map to an iterable object. \n",
    "Test_2 = list(map(lambda y: y>10, List_test))"
   ]
  },
  {
   "cell_type": "code",
   "execution_count": null,
   "metadata": {},
   "outputs": [],
   "source": []
  },
  {
   "cell_type": "code",
   "execution_count": null,
   "metadata": {},
   "outputs": [],
   "source": [
    "# FILTER\n",
    "'''selects an interable's items based on a test function and apply functions to item pairs'''"
   ]
  },
  {
   "cell_type": "code",
   "execution_count": 140,
   "metadata": {},
   "outputs": [
    {
     "data": {
      "text/plain": [
       "[11, 12, 13, 14, 15, 16, 17, 18, 19]"
      ]
     },
     "execution_count": 140,
     "metadata": {},
     "output_type": "execute_result"
    }
   ],
   "source": [
    "Test_greater_than_filter = list(filter((lambda x: x>10), range(0,20)))\n",
    "Test_greater_than_filter"
   ]
  },
  {
   "cell_type": "code",
   "execution_count": 139,
   "metadata": {},
   "outputs": [],
   "source": []
  },
  {
   "cell_type": "code",
   "execution_count": null,
   "metadata": {},
   "outputs": [],
   "source": [
    "# COMBINING ITEMS IN INTERABLES:  REDUCE\n",
    "'''It accepts an iterable to process, but its not an iterable iteself - it returns a single result'''"
   ]
  },
  {
   "cell_type": "code",
   "execution_count": 147,
   "metadata": {},
   "outputs": [],
   "source": [
    "# Determining the maximum of a list using reduce\n",
    "\n",
    "import functools \n",
    "\n",
    "f = lambda a,b: a if (a>b) else b\n",
    "Sol = functools.reduce(f, [47,11,41,102,10])"
   ]
  },
  {
   "cell_type": "code",
   "execution_count": null,
   "metadata": {},
   "outputs": [],
   "source": [
    "# Get Sum of Numbers in Range"
   ]
  },
  {
   "cell_type": "code",
   "execution_count": 154,
   "metadata": {},
   "outputs": [
    {
     "data": {
      "text/plain": [
       "499500"
      ]
     },
     "execution_count": 154,
     "metadata": {},
     "output_type": "execute_result"
    }
   ],
   "source": [
    "functools.reduce(lambda x,y: x+y, range(0,1000))"
   ]
  },
  {
   "cell_type": "code",
   "execution_count": 177,
   "metadata": {},
   "outputs": [],
   "source": [
    "from time import time\n",
    "\n",
    "start_time = time()\n",
    "Sum = 0\n",
    "List = range(0,10000000)\n",
    "\n",
    "for x in List:\n",
    "    Sum += x\n",
    "\n",
    "end_time = time()"
   ]
  },
  {
   "cell_type": "code",
   "execution_count": 180,
   "metadata": {},
   "outputs": [
    {
     "name": "stdout",
     "output_type": "stream",
     "text": [
      "1.5819120407104492\n"
     ]
    }
   ],
   "source": [
    "print(end_time - start_time)"
   ]
  },
  {
   "cell_type": "code",
   "execution_count": null,
   "metadata": {},
   "outputs": [],
   "source": []
  },
  {
   "cell_type": "code",
   "execution_count": 181,
   "metadata": {},
   "outputs": [],
   "source": [
    "start_time = time()\n",
    "functools.reduce(lambda x,y: x+y, range(0,10000000))\n",
    "end_time = time()"
   ]
  },
  {
   "cell_type": "code",
   "execution_count": 182,
   "metadata": {},
   "outputs": [
    {
     "data": {
      "text/plain": [
       "1.6138925552368164"
      ]
     },
     "execution_count": 182,
     "metadata": {},
     "output_type": "execute_result"
    }
   ],
   "source": [
    "end_time - start_time"
   ]
  },
  {
   "cell_type": "code",
   "execution_count": null,
   "metadata": {},
   "outputs": [],
   "source": []
  },
  {
   "cell_type": "code",
   "execution_count": null,
   "metadata": {},
   "outputs": [],
   "source": []
  },
  {
   "cell_type": "code",
   "execution_count": null,
   "metadata": {},
   "outputs": [],
   "source": []
  },
  {
   "cell_type": "code",
   "execution_count": null,
   "metadata": {},
   "outputs": [],
   "source": []
  },
  {
   "cell_type": "code",
   "execution_count": null,
   "metadata": {},
   "outputs": [],
   "source": []
  },
  {
   "cell_type": "code",
   "execution_count": null,
   "metadata": {},
   "outputs": [],
   "source": []
  },
  {
   "cell_type": "code",
   "execution_count": null,
   "metadata": {},
   "outputs": [],
   "source": []
  }
 ],
 "metadata": {
  "kernelspec": {
   "display_name": "Python 3",
   "language": "python",
   "name": "python3"
  },
  "language_info": {
   "codemirror_mode": {
    "name": "ipython",
    "version": 3
   },
   "file_extension": ".py",
   "mimetype": "text/x-python",
   "name": "python",
   "nbconvert_exporter": "python",
   "pygments_lexer": "ipython3",
   "version": "3.6.1"
  }
 },
 "nbformat": 4,
 "nbformat_minor": 2
}
