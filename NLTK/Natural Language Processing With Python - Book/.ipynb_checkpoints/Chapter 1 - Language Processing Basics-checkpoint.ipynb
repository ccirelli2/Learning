{
 "cells": [
  {
   "cell_type": "code",
   "execution_count": null,
   "metadata": {},
   "outputs": [],
   "source": [
    "# CHAPTER 1 - language Processing & Python\n"
   ]
  },
  {
   "cell_type": "code",
   "execution_count": 128,
   "metadata": {},
   "outputs": [],
   "source": [
    "# Packages\n",
    "import nltk\n",
    "import matplotlib.pyplot as plt\n",
    "import os\n",
    "import re\n",
    "import pandas as pd"
   ]
  },
  {
   "cell_type": "code",
   "execution_count": null,
   "metadata": {},
   "outputs": [],
   "source": [
    "# Home Made Functions\n",
    "\n",
    "def word_count(text):\n",
    "    Dict = {}\n",
    "    Unique_words = set(text)\n",
    "    for x in Unique_words:\n",
    "        Count = text.count(x)\n",
    "        Dict[x] = Count\n",
    "    return Dict"
   ]
  },
  {
   "cell_type": "code",
   "execution_count": 4,
   "metadata": {},
   "outputs": [
    {
     "name": "stdout",
     "output_type": "stream",
     "text": [
      "*** Introductory Examples for the NLTK Book ***\n",
      "Loading text1, ..., text9 and sent1, ..., sent9\n",
      "Type the name of the text or sentence to view it.\n",
      "Type: 'texts()' or 'sents()' to list the materials.\n",
      "text1: Moby Dick by Herman Melville 1851\n",
      "text2: Sense and Sensibility by Jane Austen 1811\n",
      "text3: The Book of Genesis\n",
      "text4: Inaugural Address Corpus\n",
      "text5: Chat Corpus\n",
      "text6: Monty Python and the Holy Grail\n",
      "text7: Wall Street Journal\n",
      "text8: Personals Corpus\n",
      "text9: The Man Who Was Thursday by G . K . Chesterton 1908\n"
     ]
    }
   ],
   "source": [
    "# Load Corpora\n",
    "\n",
    "from nltk.book import*\n",
    "\n",
    "# reference texts 'text1, text2, text9"
   ]
  },
  {
   "cell_type": "code",
   "execution_count": 5,
   "metadata": {},
   "outputs": [
    {
     "name": "stdout",
     "output_type": "stream",
     "text": [
      "Displaying 11 of 11 matches:\n",
      "ong the former , one was of a most monstrous size . ... This came towards us , \n",
      "ON OF THE PSALMS . \" Touching that monstrous bulk of the whale or ork we have r\n",
      "ll over with a heathenish array of monstrous clubs and spears . Some were thick\n",
      "d as you gazed , and wondered what monstrous cannibal and savage could ever hav\n",
      "that has survived the flood ; most monstrous and most mountainous ! That Himmal\n",
      "they might scout at Moby Dick as a monstrous fable , or still worse and more de\n",
      "th of Radney .'\" CHAPTER 55 Of the Monstrous Pictures of Whales . I shall ere l\n",
      "ing Scenes . In connexion with the monstrous pictures of whales , I am strongly\n",
      "ere to enter upon those still more monstrous stories of them which are to be fo\n",
      "ght have been rummaged out of this monstrous cabinet there is no telling . But \n",
      "of Whale - Bones ; for Whales of a monstrous size are oftentimes cast up dead u\n",
      "Displaying 2 of 2 matches:\n",
      "the neighbors are suing for consumer fraud . '' And the nose on Mr. Courter 's \n",
      "Mr. Courter 's face grows . The only fraud involved , cry *T*-1 Mr. Courter 's \n"
     ]
    }
   ],
   "source": [
    "# Find Word Within Context\n",
    "\n",
    "'''Concordance\n",
    "Definition      Shows every plan the word appears in the text along with accompanying text on both sides of its position. \n",
    "'''\n",
    "\n",
    "# Moby Dick\n",
    "Concordance_monstrous = text1.concordance('monstrous')\n",
    "\n",
    "# Wall Stree Journal\n",
    "Concordance_fraud= text7.concordance('fraud')\n"
   ]
  },
  {
   "cell_type": "code",
   "execution_count": 16,
   "metadata": {},
   "outputs": [
    {
     "name": "stdout",
     "output_type": "stream",
     "text": [
      "true contemptible christian abundant few part mean careful puzzled\n",
      "mystifying passing curious loving wise doleful gamesome singular\n",
      "delightfully perilous fearless\n"
     ]
    }
   ],
   "source": [
    "# Find Words Within Similar Context\n",
    "\n",
    "text1.similar('monstrous')"
   ]
  },
  {
   "cell_type": "code",
   "execution_count": 18,
   "metadata": {},
   "outputs": [
    {
     "name": "stdout",
     "output_type": "stream",
     "text": [
      "a_pretty am_glad a_lucky is_pretty be_glad\n"
     ]
    }
   ],
   "source": [
    "# Find Context Shared By Two Words\n",
    "\n",
    "\n",
    "text2.common_contexts(['monstrous', 'very'])\n"
   ]
  },
  {
   "cell_type": "code",
   "execution_count": 24,
   "metadata": {},
   "outputs": [
    {
     "data": {
      "image/png": "[encoded data removed]",
      "text/plain": [
       "<matplotlib.figure.Figure at 0x17a102fa4a8>"
      ]
     },
     "metadata": {},
     "output_type": "display_data"
    }
   ],
   "source": [
    "# Lexical Dispersion Plot\n",
    "\n",
    "text7.dispersion_plot(['bitcoin', 'bear', 'taxes', 'federal reserve', 'crisis', 'recession'])"
   ]
  },
  {
   "cell_type": "code",
   "execution_count": 45,
   "metadata": {},
   "outputs": [
    {
     "data": {
      "text/plain": [
       "'Method is broken.  Cant use'"
      ]
     },
     "execution_count": 45,
     "metadata": {},
     "output_type": "execute_result"
    }
   ],
   "source": [
    "# Generate Random Text\n",
    "\n",
    "'''Method is broken.  Cant use'''\n",
    "     "
   ]
  },
  {
   "cell_type": "code",
   "execution_count": 16,
   "metadata": {},
   "outputs": [],
   "source": [
    "# Get Vocabular \n",
    "\n",
    "import string\n",
    "Unique_words = set(text3)\n",
    "\n"
   ]
  },
  {
   "cell_type": "code",
   "execution_count": 21,
   "metadata": {},
   "outputs": [],
   "source": [
    "# Lexical Richness \n",
    "\n",
    "Num_words = len(text3)\n",
    "Num_vocab = len(set(text3))\n",
    "\n",
    "Lexical_richness = Num_words / Num_vocab\n",
    "\n",
    "# print(Lexical_richness)\n",
    "# On average each word is used 16 times. "
   ]
  },
  {
   "cell_type": "code",
   "execution_count": 26,
   "metadata": {},
   "outputs": [
    {
     "name": "stdout",
     "output_type": "stream",
     "text": [
      "0.01116968992940756\n"
     ]
    }
   ],
   "source": [
    "# Word Count\n",
    "\n",
    "Count_smote = text3.count('smote'\n",
    "Perc_text_smote = 100 * (Count_smote / len(text3))\n",
    "#print(Perc_text_smote)\n"
   ]
  },
  {
   "cell_type": "code",
   "execution_count": 64,
   "metadata": {},
   "outputs": [
    {
     "data": {
      "image/png": "[encoded data removed]",
      "text/plain": [
       "<matplotlib.figure.Figure at 0x27f12536e80>"
      ]
     },
     "metadata": {},
     "output_type": "display_data"
    },
    {
     "name": "stdout",
     "output_type": "stream",
     "text": [
      "None\n"
     ]
    }
   ],
   "source": [
    "# Computing with Language - Simple Statistics\n",
    "\n",
    "# 1. Frquency Distribution (Top 50)\n",
    "\n",
    "fdistr_1 = FreqDist(text1)    \n",
    "vocabulary_1 = fdistr_1.keys()      # All distict words\n",
    "vocab_count = fdistr_1.elements     # Will return each vocab or token and its frequency in the text. \n",
    "\n",
    "#print(fdistr_1.plot(50, cumulative = True))\n"
   ]
  },
  {
   "cell_type": "code",
   "execution_count": null,
   "metadata": {},
   "outputs": [],
   "source": [
    "# Hapaxes - Words that occur only once"
   ]
  },
  {
   "cell_type": "code",
   "execution_count": 65,
   "metadata": {},
   "outputs": [
    {
     "data": {
      "text/plain": [
       "<bound method FreqDist.hapaxes of FreqDist({',': 18713, 'the': 13721, '.': 6862, 'of': 6536, 'and': 6024, 'a': 4569, 'to': 4542, ';': 4072, 'in': 3916, 'that': 2982, ...})>"
      ]
     },
     "execution_count": 65,
     "metadata": {},
     "output_type": "execute_result"
    }
   ],
   "source": [
    "fdistr_1.hapaxes"
   ]
  },
  {
   "cell_type": "code",
   "execution_count": 82,
   "metadata": {},
   "outputs": [],
   "source": [
    "# Long Words\n",
    "\n",
    "#Long_words = [print(x) for x in text4 if len(x) > 15]"
   ]
  },
  {
   "cell_type": "code",
   "execution_count": 97,
   "metadata": {},
   "outputs": [],
   "source": [
    "# Long & Frequent Words\n",
    "\n",
    "#Long_frequ_words = [print(x) for x in text1 if len(x) > 12 and fdistr_1[x] > 10]\n"
   ]
  },
  {
   "cell_type": "code",
   "execution_count": 99,
   "metadata": {},
   "outputs": [
    {
     "name": "stdout",
     "output_type": "stream",
     "text": [
      "United States; fellow citizens; four years; years ago; Federal\n",
      "Government; General Government; American people; Vice President; Old\n",
      "World; Almighty God; Fellow citizens; Chief Magistrate; Chief Justice;\n",
      "God bless; every citizen; Indian tribes; public debt; one another;\n",
      "foreign nations; political parties\n"
     ]
    }
   ],
   "source": [
    "# Collocations & Bigrams\n",
    "\n",
    "'''Definitions\n",
    "\n",
    "Collocation     sequence of words that occur togetehr unusually often and reistant to substitut coion (red wine vs maroon wine)\n",
    "Birgrams        sequence of two word collocations. \n",
    "\n",
    "Objective       find birgrams that occur more often than we would expect based on the frequency of indv words. \n",
    "collocation()   function for finding bigrams. \n",
    "Question        How do you search for a specific group of words, bigram or trigram?\n",
    "\n",
    "'''\n",
    "\n",
    "#text4.collocations()\n"
   ]
  },
  {
   "cell_type": "code",
   "execution_count": 146,
   "metadata": {},
   "outputs": [
    {
     "data": {
      "image/png": "[encoded data removed]",
      "text/plain": [
       "<matplotlib.figure.Figure at 0x27f13691898>"
      ]
     },
     "execution_count": 146,
     "metadata": {},
     "output_type": "execute_result"
    }
   ],
   "source": [
    "# Frequency Distribution\n",
    "\n",
    "'''Approach using pure python\n",
    "\n",
    "Get count for each unique word (use the dictionary method. \n",
    "Convert to a dataframe\n",
    "Group the dataframe based on the frequencies.\n",
    "This should result in a frequency distribution for each frequency\n",
    ")\n",
    "\n",
    "'''\n",
    "\n",
    "# Import Articles\n",
    "\n",
    "chdir = os.chdir(r'C:\\Users\\Chris.Cirelli\\Desktop\\Python Programing Docs\\Learn Python\\11. Web Scraping with Python\\EEOC Articles')\n",
    "Get_cdw = os.getcwd()\n",
    "File_name_list = os.listdir()\n",
    "def get_Dir_list(File):\n",
    "        List = []\n",
    "        for x in File:    \n",
    "            if 'txt' in x:                                    # Confirm a txt file\n",
    "                y = Get_cdw + '\\\\' + x  \n",
    "                List.append(y)\n",
    "        return List\n",
    "Dir_list = get_Dir_list(File_name_list)\n",
    "\n",
    "Text = open(Dir_list[1]).read()\n",
    "\n",
    "def Frequency_Distriubtion(Text):\n",
    "    Dict = {}\n",
    "    \n",
    "    Text = str(Text)\n",
    "    \n",
    "    Split_text = Text.split(' ')\n",
    "    for x in Split_text:\n",
    "        if x in Dict.keys():\n",
    "            Dict[x] = Dict[x] + 1\n",
    "        else:\n",
    "            Dict[x] = 1\n",
    "    \n",
    "    # Create Dataframe\n",
    "    \n",
    "    df = pd.DataFrame(Dict, index = [1])\n",
    "    df_tran = pd.DataFrame.transpose(df)\n",
    "    \n",
    "    # Group on Count\n",
    "    \n",
    "    Group = df_tran.groupby(1)[1].count()\n",
    "    Historgram = Group.plot.hist()\n",
    "    Plot = Historgram.figure\n",
    "    \n",
    "    return Plot\n",
    "\n",
    "\n",
    "Frequency_Distriubtion(Text)\n",
    "\n"
   ]
  },
  {
   "cell_type": "code",
   "execution_count": null,
   "metadata": {},
   "outputs": [],
   "source": []
  },
  {
   "cell_type": "code",
   "execution_count": null,
   "metadata": {},
   "outputs": [],
   "source": []
  },
  {
   "cell_type": "code",
   "execution_count": null,
   "metadata": {},
   "outputs": [],
   "source": []
  }
 ],
 "metadata": {
  "kernelspec": {
   "display_name": "Python 3",
   "language": "python",
   "name": "python3"
  },
  "language_info": {
   "codemirror_mode": {
    "name": "ipython",
    "version": 3
   },
   "file_extension": ".py",
   "mimetype": "text/x-python",
   "name": "python",
   "nbconvert_exporter": "python",
   "pygments_lexer": "ipython3",
   "version": "3.6.1"
  }
 },
 "nbformat": 4,
 "nbformat_minor": 2
}
