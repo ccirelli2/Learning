{
 "cells": [
  {
   "cell_type": "code",
   "execution_count": 4,
   "metadata": {},
   "outputs": [],
   "source": [
    "# Chapter 2:  Accessing Corpora (Transfer This File)\n"
   ]
  },
  {
   "cell_type": "code",
   "execution_count": 5,
   "metadata": {},
   "outputs": [],
   "source": [
    "# Import packages\n",
    "\n",
    "import nltk\n",
    "import string\n"
   ]
  },
  {
   "cell_type": "code",
   "execution_count": 6,
   "metadata": {},
   "outputs": [],
   "source": [
    "# Import Gutenberg Corpus\n",
    "\n",
    "nltk.corpus.gutenberg.fileids()                        # This will give you a list of the gutenberg texts. \n",
    "\n",
    "emma = nltk.corpus.gutenberg.words('austen-emma.txt')  # Retreive a single text\n",
    "\n",
    "from nltk.corpus import gutenberg\n",
    "# NlTK Text Version\n",
    "\n",
    "def text_description_nltk_corpora():\n",
    "    for fileid in gutenberg.fileids():\n",
    "        num_char = len(gutenberg.raw(fileid))\n",
    "        num_words = len(gutenberg.words(fileid))\n",
    "        num_sent = len(gutenberg.sents(fileid))\n",
    "        num_vocab = len(set([w.lower for w in gutenberg.words(fileid)]))\n",
    "        print(fileid, num_char)\n",
    "\n",
    "\n",
    "        \n",
    "'''Variables\n",
    "\n",
    "raw                   Content of the file without any linguisitic processing (no spitting). \n",
    "                      Raw includes spaces, whitespaces, and punctuation. \n",
    "                      \n",
    "sent                  Divides text up into sentences. \n",
    "'''        \n",
    "\n",
    "\n",
    "'''What measures would you think important to describe a text?        \n",
    "\n",
    "Number_all             Number of all tokens\n",
    "Number_words           Number of words\n",
    "Number_vocab           Number of unique words\n",
    "Length_words           Avg length of words / complexity\n",
    "Lexical_richness       Length_vocab / Length_words\n",
    "Topic_general          General topic of the body of text\n",
    "Topic_time             How the topic changes overtime \n",
    "Time_all               How all of these variables change overtime. \n",
    "Source                 Source of the text\n",
    "\n",
    "\n",
    "Note                   Still unclear as to how one creates and nltk.text object. \n",
    "'''     \n",
    "        \n",
    "# Import text\n",
    "    \n",
    "nltk.corpus.gutenberg.fileids()                    # Will give you the id's of every text in the gutenberg corpura\n",
    "Moby_dick = nltk.Text(nltk.corpus.gutenberg.words('melville-moby_dick.txt'))        # Call as specific Text\n",
    "\n",
    "# Import Informal Texts\n",
    "\n",
    "from nltk.corpus import webtext\n",
    "\n",
    "Web_texts = webtext.fileids()\n",
    "NY_conversations = webtext.open('overheard.txt')\n",
    "\n",
    "    "
   ]
  },
  {
   "cell_type": "code",
   "execution_count": 8,
   "metadata": {},
   "outputs": [],
   "source": [
    "# Create an NLTK Text & Access Basic Functions\n",
    "\n",
    "'''Steps\n",
    "1. Identify your text\n",
    "2. Tokenize the text using the nltk.word_tokenize()\n",
    "3. Create an nltk text from the tokenized words nltk.Text(Text_tokenized)\n",
    "4. Call functions  Text_nltk.()\n",
    "\n",
    "'''\n",
    "\n",
    "String = 'Today is a good day to code'\n",
    "Text_tokenize = nltk.word_tokenize(String)\n",
    "Text_nltk = nltk.Text(Text_tokenize)\n",
    "\n",
    "\n"
   ]
  },
  {
   "cell_type": "code",
   "execution_count": 33,
   "metadata": {},
   "outputs": [
    {
     "ename": "NameError",
     "evalue": "name 'rd' is not defined",
     "output_type": "error",
     "traceback": [
      "\u001b[1;31m---------------------------------------------------------------------------\u001b[0m",
      "\u001b[1;31mNameError\u001b[0m                                 Traceback (most recent call last)",
      "\u001b[1;32m<ipython-input-33-08573a7c3041>\u001b[0m in \u001b[0;36m<module>\u001b[1;34m()\u001b[0m\n\u001b[0;32m      9\u001b[0m \u001b[1;33m\u001b[0m\u001b[0m\n\u001b[0;32m     10\u001b[0m \u001b[1;33m\u001b[0m\u001b[0m\n\u001b[1;32m---> 11\u001b[1;33m \u001b[0mwordlists\u001b[0m\u001b[1;33m.\u001b[0m\u001b[0mwords\u001b[0m\u001b[1;33m(\u001b[0m\u001b[0mf1\u001b[0m\u001b[1;33m,\u001b[0m \u001b[0mrd\u001b[0m\u001b[1;33m)\u001b[0m\u001b[1;33m\u001b[0m\u001b[0m\n\u001b[0m",
      "\u001b[1;31mNameError\u001b[0m: name 'rd' is not defined"
     ]
    }
   ],
   "source": [
    "# Create a Corpus from existing documents. \n",
    "\n",
    "from nltk.corpus import PlaintextCorpusReader\n",
    "\n",
    "corpus_root = r'C:\\Users\\Chris.Cirelli\\Desktop\\Python Programing Docs\\Learn Python\\11. Web Scraping with Python\\EEOC Articles'\n",
    "wordlists = PlaintextCorpusReader(corpus_root, '.*')\n",
    "fileids = wordlists.fileids()\n",
    "f1 = fileids[1]\n",
    "\n"
   ]
  },
  {
   "cell_type": "code",
   "execution_count": null,
   "metadata": {},
   "outputs": [],
   "source": []
  },
  {
   "cell_type": "code",
   "execution_count": null,
   "metadata": {},
   "outputs": [],
   "source": []
  },
  {
   "cell_type": "code",
   "execution_count": null,
   "metadata": {},
   "outputs": [],
   "source": []
  },
  {
   "cell_type": "code",
   "execution_count": null,
   "metadata": {},
   "outputs": [],
   "source": []
  }
 ],
 "metadata": {
  "kernelspec": {
   "display_name": "Python 3",
   "language": "python",
   "name": "python3"
  },
  "language_info": {
   "codemirror_mode": {
    "name": "ipython",
    "version": 3
   },
   "file_extension": ".py",
   "mimetype": "text/x-python",
   "name": "python",
   "nbconvert_exporter": "python",
   "pygments_lexer": "ipython3",
   "version": "3.6.1"
  }
 },
 "nbformat": 4,
 "nbformat_minor": 2
}
