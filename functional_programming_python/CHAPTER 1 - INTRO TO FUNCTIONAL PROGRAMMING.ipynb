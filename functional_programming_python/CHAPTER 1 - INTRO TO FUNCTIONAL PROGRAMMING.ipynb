{
 "cells": [
  {
   "cell_type": "code",
   "execution_count": 12,
   "metadata": {},
   "outputs": [],
   "source": [
    "# CHAPTER 1:  INTRO TO FUNCTIONAL PROGRAMMING\n"
   ]
  },
  {
   "cell_type": "code",
   "execution_count": null,
   "metadata": {},
   "outputs": [],
   "source": [
    "'''Higher Order Functions\n",
    "\n",
    "map()\n",
    "filter()\n",
    "functools.reduce()\n",
    "sorted()\n",
    "min()\n",
    "max()\n",
    "\n",
    "'''"
   ]
  },
  {
   "cell_type": "code",
   "execution_count": null,
   "metadata": {},
   "outputs": [],
   "source": [
    "'''Types of Programming Styles\n",
    "\n",
    "1. Imperrative:    Each statement is a command which changes the state of an object in someway.  The objective of the code\n",
    "                   is to advance the state of an object to a disired outcome. \n",
    "                 \n",
    "   a.) Procedural: Focus on computation. Think about the sum of a value with no object creation but for the sum. \n",
    "   b.) OOP:        Focus on state of the object. Think about the creation of a list. \n",
    "                 \n",
    "2. Functional:     Focus is on evaluating functions. \n",
    "                   Functions as first class objects. \n",
    "                   Providing functions as arguments. \n",
    "                   Try to avoid creating objects. \n",
    "\n",
    "    a.) Pure Functional \n",
    "                   Local code only.  No global statements. \n",
    "                   Ex:  Python lambda expression\n",
    "                   Lambda's cannot have an assignment statement, and therefore pure functions. \n",
    "    b.) Higher Order Functions\n",
    "                   Accept a function as an argument or return a function as a value. \n",
    "                   ex: max()\n",
    "    \n",
    "\n",
    "'''"
   ]
  },
  {
   "cell_type": "code",
   "execution_count": 14,
   "metadata": {},
   "outputs": [
    {
     "data": {
      "text/plain": [
       "function"
      ]
     },
     "execution_count": 14,
     "metadata": {},
     "output_type": "execute_result"
    }
   ],
   "source": [
    "# Function as a first class object\n",
    "def example(a,b):\n",
    "    return a+b\n",
    "\n",
    "type(example)"
   ]
  },
  {
   "cell_type": "code",
   "execution_count": 16,
   "metadata": {},
   "outputs": [
    {
     "data": {
      "text/plain": [
       "9"
      ]
     },
     "execution_count": 16,
     "metadata": {},
     "output_type": "execute_result"
    }
   ],
   "source": [
    "# Python lambda expression\n",
    "\n",
    "Squr = lambda x: x**2\n",
    "Squr(3)"
   ]
  },
  {
   "cell_type": "code",
   "execution_count": null,
   "metadata": {},
   "outputs": [],
   "source": [
    "# Higher Order Functions"
   ]
  },
  {
   "cell_type": "code",
   "execution_count": 38,
   "metadata": {},
   "outputs": [
    {
     "data": {
      "text/plain": [
       "4"
      ]
     },
     "execution_count": 38,
     "metadata": {},
     "output_type": "execute_result"
    }
   ],
   "source": [
    "List = [1,2,3,4]\n",
    "max(List)"
   ]
  },
  {
   "cell_type": "code",
   "execution_count": 43,
   "metadata": {},
   "outputs": [
    {
     "data": {
      "text/plain": [
       "(2001, 30)"
      ]
     },
     "execution_count": 43,
     "metadata": {},
     "output_type": "execute_result"
    }
   ],
   "source": [
    "Tuple = [(2000, 10), (2001, 30), (2010,5)] \n",
    "max_pos_1 = max(Tuple, key = lambda x: x[1])  # It looks like max() can take multiple arguments. \n",
    "max_pos_1"
   ]
  },
  {
   "cell_type": "code",
   "execution_count": 58,
   "metadata": {},
   "outputs": [],
   "source": [
    "String = [3, 4, 18]"
   ]
  },
  {
   "cell_type": "code",
   "execution_count": 44,
   "metadata": {},
   "outputs": [],
   "source": [
    "#Get_date = lambda x: (x[:1], x[3:5], x[:-4])"
   ]
  },
  {
   "cell_type": "code",
   "execution_count": 61,
   "metadata": {},
   "outputs": [
    {
     "ename": "SyntaxError",
     "evalue": "invalid syntax (<ipython-input-61-69fd73586dec>, line 1)",
     "output_type": "error",
     "traceback": [
      "\u001b[1;36m  File \u001b[1;32m\"<ipython-input-61-69fd73586dec>\"\u001b[1;36m, line \u001b[1;32m1\u001b[0m\n\u001b[1;33m    Get_date = map((lambda x: x[0, x[1]), x[3], String)\u001b[0m\n\u001b[1;37m                                       ^\u001b[0m\n\u001b[1;31mSyntaxError\u001b[0m\u001b[1;31m:\u001b[0m invalid syntax\n"
     ]
    }
   ],
   "source": [
    "Get_date = map((lambda x: x[0, x[1]), x[3], String)"
   ]
  },
  {
   "cell_type": "code",
   "execution_count": 54,
   "metadata": {},
   "outputs": [
    {
     "data": {
      "text/plain": [
       "[('0', '', ''),\n",
       " ('3', '', ''),\n",
       " ('/', '', ''),\n",
       " ('0', '', ''),\n",
       " ('5', '', ''),\n",
       " ('/', '', ''),\n",
       " ('2', '', ''),\n",
       " ('0', '', ''),\n",
       " ('1', '', ''),\n",
       " ('8', '', '')]"
      ]
     },
     "execution_count": 54,
     "metadata": {},
     "output_type": "execute_result"
    }
   ],
   "source": [
    "list(Get_date)"
   ]
  },
  {
   "cell_type": "code",
   "execution_count": null,
   "metadata": {},
   "outputs": [],
   "source": []
  },
  {
   "cell_type": "code",
   "execution_count": null,
   "metadata": {},
   "outputs": [],
   "source": []
  },
  {
   "cell_type": "code",
   "execution_count": null,
   "metadata": {},
   "outputs": [],
   "source": []
  },
  {
   "cell_type": "code",
   "execution_count": null,
   "metadata": {},
   "outputs": [],
   "source": []
  },
  {
   "cell_type": "code",
   "execution_count": null,
   "metadata": {},
   "outputs": [],
   "source": []
  },
  {
   "cell_type": "code",
   "execution_count": null,
   "metadata": {},
   "outputs": [],
   "source": []
  },
  {
   "cell_type": "code",
   "execution_count": null,
   "metadata": {},
   "outputs": [],
   "source": []
  },
  {
   "cell_type": "code",
   "execution_count": null,
   "metadata": {},
   "outputs": [],
   "source": []
  },
  {
   "cell_type": "code",
   "execution_count": null,
   "metadata": {},
   "outputs": [],
   "source": []
  },
  {
   "cell_type": "code",
   "execution_count": null,
   "metadata": {},
   "outputs": [],
   "source": []
  },
  {
   "cell_type": "code",
   "execution_count": null,
   "metadata": {},
   "outputs": [],
   "source": []
  }
 ],
 "metadata": {
  "kernelspec": {
   "display_name": "Python 3",
   "language": "python",
   "name": "python3"
  },
  "language_info": {
   "codemirror_mode": {
    "name": "ipython",
    "version": 3
   },
   "file_extension": ".py",
   "mimetype": "text/x-python",
   "name": "python",
   "nbconvert_exporter": "python",
   "pygments_lexer": "ipython3",
   "version": "3.6.1"
  }
 },
 "nbformat": 4,
 "nbformat_minor": 2
}
